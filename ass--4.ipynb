{
  "nbformat": 4,
  "nbformat_minor": 0,
  "metadata": {
    "colab": {
      "provenance": [],
      "authorship_tag": "ABX9TyPOc6eDhTrpb6OLdXHwJEtO",
      "include_colab_link": true
    },
    "kernelspec": {
      "name": "python3",
      "display_name": "Python 3"
    },
    "language_info": {
      "name": "python"
    }
  },
  "cells": [
    {
      "cell_type": "markdown",
      "metadata": {
        "id": "view-in-github",
        "colab_type": "text"
      },
      "source": [
        "<a href=\"https://colab.research.google.com/github/2303A51717/2303A51717_b11_pds/blob/main/ass--4.ipynb\" target=\"_parent\"><img src=\"https://colab.research.google.com/assets/colab-badge.svg\" alt=\"Open In Colab\"/></a>"
      ]
    },
    {
      "cell_type": "code",
      "execution_count": 5,
      "metadata": {
        "colab": {
          "base_uri": "https://localhost:8080/"
        },
        "id": "zvn72Vwk27At",
        "outputId": "85b6d9da-b90c-4883-bf83-76592faff8b9"
      },
      "outputs": [
        {
          "output_type": "stream",
          "name": "stdout",
          "text": [
            "Original Data:\n",
            "    Invoice_No Customer_Name     Product  Quantity  Price   Total\n",
            "0        1001    John Smith      Laptop       2.0  800.0  1600.0\n",
            "1        1002     Sarah Lee  Smartphone       5.0  600.0  3000.0\n",
            "2        1003  Michael Chen      Tablet       3.0    NaN     NaN\n",
            "3        1004   Emily Davis         NaN       4.0  100.0   400.0\n",
            "4        1005   David Brown     Monitor       NaN  200.0     NaN\n",
            "5        1006  Sophia Patel  Headphones      10.0   50.0   500.0\n",
            "6        1007   Liam Wilson      Laptop       1.0    NaN     NaN \n",
            "\n",
            "Cleaned Data:\n",
            "    Invoice_No Customer_Name     Product  Quantity       Price        Total\n",
            "0        1001    John Smith      Laptop       2.0  800.000000  1600.000000\n",
            "1        1002     Sarah Lee  Smartphone       5.0  600.000000  3000.000000\n",
            "2        1003  Michael Chen      Tablet       3.0  483.333333  1450.000000\n",
            "5        1006  Sophia Patel  Headphones      10.0   50.000000   500.000000\n",
            "6        1007   Liam Wilson      Laptop       1.0  483.333333   483.333333 \n",
            "\n",
            "Transactions with Total > 1000:\n",
            "    Invoice_No Customer_Name     Product  Quantity       Price   Total\n",
            "0        1001    John Smith      Laptop       2.0  800.000000  1600.0\n",
            "1        1002     Sarah Lee  Smartphone       5.0  600.000000  3000.0\n",
            "2        1003  Michael Chen      Tablet       3.0  483.333333  1450.0\n"
          ]
        },
        {
          "output_type": "stream",
          "name": "stderr",
          "text": [
            "/tmp/ipython-input-1838971577.py:8: FutureWarning: A value is trying to be set on a copy of a DataFrame or Series through chained assignment using an inplace method.\n",
            "The behavior will change in pandas 3.0. This inplace method will never work because the intermediate object on which we are setting values always behaves as a copy.\n",
            "\n",
            "For example, when doing 'df[col].method(value, inplace=True)', try using 'df.method({col: value}, inplace=True)' or df[col] = df[col].method(value) instead, to perform the operation inplace on the original object.\n",
            "\n",
            "\n",
            "  df_cleaned[\"Price\"].fillna(mean_price, inplace=True)\n",
            "/tmp/ipython-input-1838971577.py:8: SettingWithCopyWarning: \n",
            "A value is trying to be set on a copy of a slice from a DataFrame\n",
            "\n",
            "See the caveats in the documentation: https://pandas.pydata.org/pandas-docs/stable/user_guide/indexing.html#returning-a-view-versus-a-copy\n",
            "  df_cleaned[\"Price\"].fillna(mean_price, inplace=True)\n",
            "/tmp/ipython-input-1838971577.py:9: SettingWithCopyWarning: \n",
            "A value is trying to be set on a copy of a slice from a DataFrame.\n",
            "Try using .loc[row_indexer,col_indexer] = value instead\n",
            "\n",
            "See the caveats in the documentation: https://pandas.pydata.org/pandas-docs/stable/user_guide/indexing.html#returning-a-view-versus-a-copy\n",
            "  df_cleaned[\"Total\"] = df_cleaned[\"Quantity\"] * df_cleaned[\"Price\"]\n"
          ]
        }
      ],
      "source": [
        "import pandas as pd\n",
        "\n",
        "df = pd.read_csv(\"sales_data.csv\")\n",
        "\n",
        "print(\"Original Data:\\n\", df, \"\\n\")\n",
        "df_cleaned = df.dropna(subset=[\"Product\", \"Quantity\"])\n",
        "mean_price = df_cleaned[\"Price\"].mean()\n",
        "df_cleaned[\"Price\"].fillna(mean_price, inplace=True)\n",
        "df_cleaned[\"Total\"] = df_cleaned[\"Quantity\"] * df_cleaned[\"Price\"]\n",
        "large_transactions = df_cleaned[df_cleaned[\"Total\"] > 1000]\n",
        "\n",
        "print(\"Cleaned Data:\\n\", df_cleaned, \"\\n\")\n",
        "print(\"Transactions with Total > 1000:\\n\", large_transactions)\n"
      ]
    },
    {
      "cell_type": "code",
      "source": [
        "import pandas as pd\n",
        "\n",
        "data = {\n",
        "    \"Applicant_ID\": [101, 102, 103, 104, 105, 106],\n",
        "    \"Name\": [\"Charmi\", \"Roshi\", \"Sathwika\", \"Lasya\", \"Vyshnavi\", \"Sowmya\"],\n",
        "    \"Degree\": [\"B.Tech\", \"MCA\", \"B.Sc\", \"M.Tech\", \"BCA\", \"B.Tech\"],\n",
        "    \"Experience_Years\": [3, 4, 5, 1, None, None],\n",
        "    \"Python_Score\": [85, 86, None, 92, 88, 95],\n",
        "    \"Status\": [\"Pending\", \"Pending\", \"Pending\", \"Pending\", \"Pending\", \"Pending\"]\n",
        "}\n",
        "\n",
        "df = pd.DataFrame(data)\n",
        "df.to_csv(\"applicants.csv\", index=False)\n",
        "print(\"applicants.csv file created successfully!\")\n",
        "print(df)\n",
        "\n",
        "df = pd.read_csv(\"applicants.csv\")\n",
        "df = df.dropna(subset=[\"Python_Score\"])\n",
        "df[\"Experience_Years\"] = df[\"Experience_Years\"].fillna(0)\n",
        "filtered_df = df[(df[\"Python_Score\"] > 80) & (df[\"Experience_Years\"] > 2)]\n",
        "filtered_df.to_csv(\"filtered_applicants.csv\", index=False)\n",
        "print(\"Filtered Applicants:\")\n",
        "print(filtered_df)"
      ],
      "metadata": {
        "colab": {
          "base_uri": "https://localhost:8080/"
        },
        "id": "N1kFyk9638SD",
        "outputId": "4fc483d3-416f-4666-cca7-5467e5afb4d1"
      },
      "execution_count": 4,
      "outputs": [
        {
          "output_type": "stream",
          "name": "stdout",
          "text": [
            "applicants.csv file created successfully!\n",
            "   Applicant_ID      Name  Degree  Experience_Years  Python_Score   Status\n",
            "0           101    Charmi  B.Tech               3.0          85.0  Pending\n",
            "1           102     Roshi     MCA               4.0          86.0  Pending\n",
            "2           103  Sathwika    B.Sc               5.0           NaN  Pending\n",
            "3           104     Lasya  M.Tech               1.0          92.0  Pending\n",
            "4           105  Vyshnavi     BCA               NaN          88.0  Pending\n",
            "5           106    Sowmya  B.Tech               NaN          95.0  Pending\n",
            "Filtered Applicants:\n",
            "   Applicant_ID    Name  Degree  Experience_Years  Python_Score   Status\n",
            "0           101  Charmi  B.Tech               3.0          85.0  Pending\n",
            "1           102   Roshi     MCA               4.0          86.0  Pending\n"
          ]
        }
      ]
    }
  ]
}