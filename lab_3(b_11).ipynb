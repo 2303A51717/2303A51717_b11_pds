{
  "nbformat": 4,
  "nbformat_minor": 0,
  "metadata": {
    "colab": {
      "provenance": [],
      "authorship_tag": "ABX9TyNcakHx9+ISc//xSzmXbE5R",
      "include_colab_link": true
    },
    "kernelspec": {
      "name": "python3",
      "display_name": "Python 3"
    },
    "language_info": {
      "name": "python"
    }
  },
  "cells": [
    {
      "cell_type": "markdown",
      "metadata": {
        "id": "view-in-github",
        "colab_type": "text"
      },
      "source": [
        "<a href=\"https://colab.research.google.com/github/2303A51717/2303A51717_b11_pds/blob/main/lab_3(b_11).ipynb\" target=\"_parent\"><img src=\"https://colab.research.google.com/assets/colab-badge.svg\" alt=\"Open In Colab\"/></a>"
      ]
    },
    {
      "cell_type": "markdown",
      "source": [
        "question--1"
      ],
      "metadata": {
        "id": "1OGTfKaBxs4d"
      }
    },
    {
      "cell_type": "code",
      "execution_count": 1,
      "metadata": {
        "colab": {
          "base_uri": "https://localhost:8080/"
        },
        "id": "YF3CvUHGxoFY",
        "outputId": "f673de1c-d493-4b17-ad81-5e6cf3b8be78"
      },
      "outputs": [
        {
          "output_type": "stream",
          "name": "stdout",
          "text": [
            "Test Scores (4x4):\n",
            " [[59 86 65 50]\n",
            " [99 78 75 79]\n",
            " [98 79 99 58]\n",
            " [59 50 92 90]]\n",
            "\n",
            "Row-wise Means: [65.   82.75 83.5  72.75]\n",
            "Column-wise Means: [78.75 73.25 82.75 69.25]\n",
            "\n",
            "Standard Deviation: 16.75559608011604\n",
            "Variance: 280.75\n",
            "\n",
            "Global Max: 99 at index (np.int64(1), np.int64(0))\n",
            "Global Min: 50 at index (np.int64(0), np.int64(3))\n",
            "\n",
            "Overall Median: 78.5\n",
            "Row-wise Medians: [62.  78.5 88.5 74.5]\n",
            "Column-wise Medians: [78.5 78.5 83.5 68.5]\n"
          ]
        }
      ],
      "source": [
        "import numpy as np\n",
        "\n",
        "# 1. Generate a 2D array of shape (4x4) with test scores (random between 50 and 100)\n",
        "np.random.seed(10)  # For reproducibility\n",
        "scores = np.random.randint(50, 101, size=(4, 4))\n",
        "print(\"Test Scores (4x4):\\n\", scores)\n",
        "\n",
        "# 2. Row-wise and Column-wise Means\n",
        "row_means = np.mean(scores, axis=1)\n",
        "col_means = np.mean(scores, axis=0)\n",
        "\n",
        "print(\"\\nRow-wise Means:\", row_means)\n",
        "print(\"Column-wise Means:\", col_means)\n",
        "\n",
        "# 3. Standard Deviation and Variance\n",
        "std_dev = np.std(scores)\n",
        "variance = np.var(scores)\n",
        "\n",
        "print(\"\\nStandard Deviation:\", std_dev)\n",
        "print(\"Variance:\", variance)\n",
        "\n",
        "# 4. Global Max and Min with Indices\n",
        "global_max = np.max(scores)\n",
        "global_min = np.min(scores)\n",
        "\n",
        "max_index = np.unravel_index(np.argmax(scores), scores.shape)\n",
        "min_index = np.unravel_index(np.argmin(scores), scores.shape)\n",
        "\n",
        "print(\"\\nGlobal Max:\", global_max, \"at index\", max_index)\n",
        "print(\"Global Min:\", global_min, \"at index\", min_index)\n",
        "\n",
        "# 5. Median (overall, row-wise, and column-wise)\n",
        "overall_median = np.median(scores)\n",
        "row_medians = np.median(scores, axis=1)\n",
        "col_medians = np.median(scores, axis=0)\n",
        "\n",
        "print(\"\\nOverall Median:\", overall_median)\n",
        "print(\"Row-wise Medians:\", row_medians)\n",
        "print(\"Column-wise Medians:\", col_medians)\n"
      ]
    },
    {
      "cell_type": "markdown",
      "source": [
        "question-2"
      ],
      "metadata": {
        "id": "2skv1SJCx7zt"
      }
    },
    {
      "cell_type": "code",
      "source": [
        "import numpy as np\n",
        "import matplotlib.pyplot as plt\n",
        "\n",
        "# 1. Create a 3D NumPy array of shape (3x3x3) -> simulating RGB image\n",
        "# Values range from 0-255 (pixel intensity)\n",
        "np.random.seed(5)  # For reproducibility\n",
        "image = np.random.randint(0, 256, (3, 3, 3), dtype=np.uint8)\n",
        "print(\"Original 3x3x3 RGB Image Array:\\n\", image)\n",
        "\n",
        "# 2. Extract Red, Green, Blue layers\n",
        "red_channel = image[:, :, 0]\n",
        "green_channel = image[:, :, 1]\n",
        "blue_channel = image[:, :, 2]\n",
        "\n",
        "print(\"\\nRed Channel:\\n\", red_channel)\n",
        "print(\"\\nGreen Channel:\\n\", green_channel)\n",
        "print(\"\\nBlue Channel:\\n\", blue_channel)\n",
        "\n",
        "# 3. Compute average pixel intensity per channel\n",
        "avg_red = np.mean(red_channel)\n",
        "avg_green = np.mean(green_channel)\n",
        "avg_blue = np.mean(blue_channel)\n",
        "\n",
        "print(\"\\nAverage Intensities -> Red:\", avg_red, \"Green:\", avg_green, \"Blue:\", avg_blue)\n",
        "\n",
        "# 4. Brighten image by adding scalar (clip at 255)\n",
        "brightened_image = np.clip(image + 50, 0, 255)\n",
        "print(\"\\nBrightened Image Array:\\n\", brightened_image)\n",
        "\n",
        "# 5. Visualization\n",
        "fig, axes = plt.subplots(1, 4, figsize=(10, 3))\n",
        "\n",
        "axes[0].imshow(image)\n",
        "axes[0].set_title(\"Original Image\")\n",
        "axes[0].axis(\"off\")\n",
        "\n",
        "# Show red, green, blue separately\n",
        "axes[1].imshow(red_channel, cmap=\"Reds\")\n",
        "axes[1].set_title(\"Red Channel\")\n",
        "axes[1].axis(\"off\")\n",
        "\n",
        "axes[2].imshow(green_channel, cmap=\"Greens\")\n",
        "axes[2].set_title(\"Green Channel\")\n",
        "axes[2].axis(\"off\")\n",
        "\n",
        "axes[3].imshow(blue_channel, cmap=\"Blues\")\n",
        "axes[3].set_title(\"Blue Channel\")\n",
        "axes[3].axis(\"off\")\n",
        "\n",
        "plt.show()\n",
        "\n",
        "# Show Brightened Image\n",
        "plt.imshow(brightened_image)\n",
        "plt.title(\"Brightened Image (+50 intensity)\")\n",
        "plt.axis(\"off\")\n",
        "plt.show()\n"
      ],
      "metadata": {
        "colab": {
          "base_uri": "https://localhost:8080/",
          "height": 1000
        },
        "id": "z5-9OfKBx9RP",
        "outputId": "e0e86168-4b8b-4ac7-8073-52e8dd9dd5de"
      },
      "execution_count": 2,
      "outputs": [
        {
          "output_type": "stream",
          "name": "stdout",
          "text": [
            "Original 3x3x3 RGB Image Array:\n",
            " [[[ 99 139 212]\n",
            "  [ 56 206  72]\n",
            "  [ 32  14 239]]\n",
            "\n",
            " [[ 79 232 222]\n",
            "  [189 230 209]\n",
            "  [212 230 139]]\n",
            "\n",
            " [[235  52 118]\n",
            "  [220  29  93]\n",
            "  [144  21  42]]]\n",
            "\n",
            "Red Channel:\n",
            " [[ 99  56  32]\n",
            " [ 79 189 212]\n",
            " [235 220 144]]\n",
            "\n",
            "Green Channel:\n",
            " [[139 206  14]\n",
            " [232 230 230]\n",
            " [ 52  29  21]]\n",
            "\n",
            "Blue Channel:\n",
            " [[212  72 239]\n",
            " [222 209 139]\n",
            " [118  93  42]]\n",
            "\n",
            "Average Intensities -> Red: 140.66666666666666 Green: 128.11111111111111 Blue: 149.55555555555554\n",
            "\n",
            "Brightened Image Array:\n",
            " [[[149 189   6]\n",
            "  [106   0 122]\n",
            "  [ 82  64  33]]\n",
            "\n",
            " [[129  26  16]\n",
            "  [239  24   3]\n",
            "  [  6  24 189]]\n",
            "\n",
            " [[ 29 102 168]\n",
            "  [ 14  79 143]\n",
            "  [194  71  92]]]\n"
          ]
        },
        {
          "output_type": "display_data",
          "data": {
            "text/plain": [
              "<Figure size 1000x300 with 4 Axes>"
            ],
            "image/png": "[encoded data removed]"
          },
          "metadata": {}
        },
        {
          "output_type": "display_data",
          "data": {
            "text/plain": [
              "<Figure size 640x480 with 1 Axes>"
            ],
            "image/png": "[encoded data removed]"
          },
          "metadata": {}
        }
      ]
    }
  ]
}