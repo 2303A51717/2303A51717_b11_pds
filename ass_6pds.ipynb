{
  "nbformat": 4,
  "nbformat_minor": 0,
  "metadata": {
    "colab": {
      "provenance": [],
      "authorship_tag": "ABX9TyO0aFAbXBMFpHDPTf696+ur",
      "include_colab_link": true
    },
    "kernelspec": {
      "name": "python3",
      "display_name": "Python 3"
    },
    "language_info": {
      "name": "python"
    }
  },
  "cells": [
    {
      "cell_type": "markdown",
      "metadata": {
        "id": "view-in-github",
        "colab_type": "text"
      },
      "source": [
        "<a href=\"https://colab.research.google.com/github/2303A51717/2303A51717_b11_pds/blob/main/ass_6pds.ipynb\" target=\"_parent\"><img src=\"https://colab.research.google.com/assets/colab-badge.svg\" alt=\"Open In Colab\"/></a>"
      ]
    },
    {
      "cell_type": "markdown",
      "source": [
        "question-1\n"
      ],
      "metadata": {
        "id": "uP--2wo1-EOQ"
      }
    },
    {
      "cell_type": "code",
      "execution_count": 1,
      "metadata": {
        "colab": {
          "base_uri": "https://localhost:8080/"
        },
        "id": "pWoEFIQR9mGo",
        "outputId": "4d5a4159-95f5-49c6-e598-eb35b3962d49"
      },
      "outputs": [
        {
          "output_type": "stream",
          "name": "stdout",
          "text": [
            "Original Dataset:\n",
            "   Transaction_ID     Product  Amount\n",
            "0             101      Laptop   80000\n",
            "1             102       Phone   20000\n",
            "2             103      Tablet   15000\n",
            "3             104  Headphones    5000\n",
            "4             105     Monitor   12000\n",
            "5             103      Tablet   15000\n",
            "6             104  Headphones    5000\n",
            "\n",
            "Number of duplicate rows: 2\n",
            "Number of duplicate rows after cleaning: 0\n",
            "\n",
            "Cleaned Dataset:\n",
            "   Transaction_ID     Product  Amount\n",
            "0             101      Laptop   80000\n",
            "1             102       Phone   20000\n",
            "2             103      Tablet   15000\n",
            "3             104  Headphones    5000\n",
            "4             105     Monitor   12000\n"
          ]
        }
      ],
      "source": [
        "import pandas as pd\n",
        "sales_data = pd.DataFrame({\n",
        "    \"Transaction_ID\": [101, 102, 103, 104, 105, 103, 104],\n",
        "    \"Product\": [\"Laptop\", \"Phone\", \"Tablet\", \"Headphones\", \"Monitor\", \"Tablet\", \"Headphones\"],\n",
        "    \"Amount\": [80000, 20000, 15000, 5000, 12000, 15000, 5000]\n",
        "})\n",
        "\n",
        "print(\"Original Dataset:\")\n",
        "print(sales_data)\n",
        "duplicate_count = sales_data.duplicated().sum()\n",
        "print(f\"\\nNumber of duplicate rows: {duplicate_count}\")\n",
        "cleaned_sales = sales_data.drop_duplicates()\n",
        "cleaned_count = cleaned_sales.duplicated().sum()\n",
        "print(f\"Number of duplicate rows after cleaning: {cleaned_count}\")\n",
        "\n",
        "print(\"\\nCleaned Dataset:\")\n",
        "print(cleaned_sales)\n"
      ]
    },
    {
      "cell_type": "markdown",
      "source": [
        "question-2"
      ],
      "metadata": {
        "id": "b8Y06AmK-N8w"
      }
    },
    {
      "cell_type": "markdown",
      "source": [],
      "metadata": {
        "id": "sTAOCZJX-N5Y"
      }
    },
    {
      "cell_type": "code",
      "source": [
        "import pandas as pd\n",
        "employee_data = pd.DataFrame({\n",
        "    \"Employee_ID\": [1, 2, 3, 4],\n",
        "    \"Name\": [\"Alice\", \"Bob\", \"Charlie\", \"Diana\"],\n",
        "    \"Salary\": [\"50000\", \"60000\", \"55000\", \"65000\"],\n",
        "    \"Joining_Date\": [\"2023-01-15\", \"2022-11-20\", \"2023-05-10\", \"2021-12-01\"]\n",
        "})\n",
        "\n",
        "print(\"Original Data Types:\")\n",
        "print(employee_data.dtypes)\n",
        "\n",
        "employee_data[\"Salary\"] = pd.to_numeric(employee_data[\"Salary\"])\n",
        "\n",
        "employee_data[\"Joining_Date\"] = pd.to_datetime(employee_data[\"Joining_Date\"])\n",
        "\n",
        "print(\"\\nCorrected Data Types:\")\n",
        "print(employee_data.dtypes)\n",
        "\n",
        "print(\"\\nCleaned Employee Dataset:\")\n",
        "print(employee_data)\n"
      ],
      "metadata": {
        "colab": {
          "base_uri": "https://localhost:8080/"
        },
        "id": "woZ3OeXu-Nfs",
        "outputId": "6ca2e529-0ee7-4a42-edc9-aa2583807e81"
      },
      "execution_count": 3,
      "outputs": [
        {
          "output_type": "stream",
          "name": "stdout",
          "text": [
            "Original Data Types:\n",
            "Employee_ID      int64\n",
            "Name            object\n",
            "Salary          object\n",
            "Joining_Date    object\n",
            "dtype: object\n",
            "\n",
            "Corrected Data Types:\n",
            "Employee_ID              int64\n",
            "Name                    object\n",
            "Salary                   int64\n",
            "Joining_Date    datetime64[ns]\n",
            "dtype: object\n",
            "\n",
            "Cleaned Employee Dataset:\n",
            "   Employee_ID     Name  Salary Joining_Date\n",
            "0            1    Alice   50000   2023-01-15\n",
            "1            2      Bob   60000   2022-11-20\n",
            "2            3  Charlie   55000   2023-05-10\n",
            "3            4    Diana   65000   2021-12-01\n"
          ]
        }
      ]
    }
  ]
}