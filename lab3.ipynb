{
  "nbformat": 4,
  "nbformat_minor": 0,
  "metadata": {
    "colab": {
      "provenance": [],
      "authorship_tag": "ABX9TyMZ4iTT4prN+uukp4foozHk",
      "include_colab_link": true
    },
    "kernelspec": {
      "name": "python3",
      "display_name": "Python 3"
    },
    "language_info": {
      "name": "python"
    }
  },
  "cells": [
    {
      "cell_type": "markdown",
      "metadata": {
        "id": "view-in-github",
        "colab_type": "text"
      },
      "source": [
        "<a href=\"https://colab.research.google.com/github/2303A51717/2303A51717_b11_pds/blob/main/lab3.ipynb\" target=\"_parent\"><img src=\"https://colab.research.google.com/assets/colab-badge.svg\" alt=\"Open In Colab\"/></a>"
      ]
    },
    {
      "cell_type": "code",
      "execution_count": 16,
      "metadata": {
        "colab": {
          "base_uri": "https://localhost:8080/"
        },
        "id": "2ao5-yBBsm1u",
        "outputId": "77e3865e-c527-4c54-84b7-983396c33b89"
      },
      "outputs": [
        {
          "output_type": "stream",
          "name": "stdout",
          "text": [
            "Array arr1: [1 2 3]\n",
            "Array arr2: [4 5 6]\n",
            "arr1 + arr2: [5 7 9]\n",
            "arr1 - arr2: [-3 -3 -3]\n",
            "arr1 * arr2: [ 4 10 18]\n",
            "arr1 / arr2: [0.25 0.4  0.5 ]\n",
            "arr1**2: [1 4 9]\n",
            "arr2**2: [16 25 36]\n",
            "arr1 % 3: [1 2 0]\n",
            "arr2 % 4: [0 1 2]\n",
            "Sum of arr1 + arr2: 21\n",
            "Subtract arr1 from arr2: [-3 -3 -3]\n",
            "Multiply arr1 and arr2: [ 4 10 18]\n",
            "Divide arr1 by arr2: [0.25 0.4  0.5 ]\n"
          ]
        }
      ],
      "source": [
        "import numpy as np\n",
        "arr1=np.array([1,2,3])\n",
        "arr2=np.array([4,5,6])\n",
        "print(\"Array arr1:\", arr1)\n",
        "print(\"Array arr2:\", arr2)\n",
        "print(\"arr1 + arr2:\", arr1+arr2)\n",
        "print(\"arr1 - arr2:\", arr1-arr2)\n",
        "print(\"arr1 * arr2:\", arr1*arr2)\n",
        "print(\"arr1 / arr2:\", arr1/arr2)\n",
        "print(\"arr1**2:\", arr1**2)\n",
        "print(\"arr2**2:\", arr2**2)\n",
        "print(\"arr1 % 3:\", arr1%3)\n",
        "print(\"arr2 % 4:\", arr2%4)\n",
        "print(\"Sum of arr1 + arr2:\", np.sum(arr1+arr2))\n",
        "print(\"Subtract arr1 from arr2:\", np.subtract(arr1,arr2))\n",
        "print(\"Multiply arr1 and arr2:\", np.multiply(arr1,arr2))\n",
        "print(\"Divide arr1 by arr2:\", np.divide(arr1,arr2))"
      ]
    },
    {
      "cell_type": "markdown",
      "source": [
        "question-2"
      ],
      "metadata": {
        "id": "qOS14eCr1nBQ"
      }
    },
    {
      "cell_type": "code",
      "source": [
        "import numpy as np\n",
        "import matplotlib.pyplot as plt\n",
        "arr1=np.array([[[1,2],[3,4],[5,6]]])\n",
        "arr2=np.array([[10,20,30],[40,50,60]])\n",
        "print(\"Array arr1:\", arr1)\n",
        "print(\"Array arr2:\", arr2)\n",
        "print(\"Dot product:\",arr1.dot(arr2))\n",
        "print(\"Dot product:\",arr1@arr2)\n",
        "image = np.array([[100, 150],\n",
        "                  [200, 250]])\n",
        "filter_matrix = np.array([[0.5, 0.2],\n",
        "                           [0.3, 0.8]])\n",
        "\n",
        "print(\"\\nOriginal 'image' matrix:\")\n",
        "print(image)\n",
        "print(\"\\nFilter matrix:\")\n",
        "print(filter_matrix)\n",
        "\n",
        "# Applying filter using dot product\n",
        "filtered_image = np.dot(image, filter_matrix)\n",
        "print(\"\\nFiltered image matrix (after transformation):\")\n",
        "print(filtered_image)\n",
        "\n",
        "# Step 5: Visualization\n",
        "fig, axes = plt.subplots(1, 2, figsize=(6, 3))\n",
        "axes[0].imshow(image, cmap='gray')\n",
        "axes[0].set_title(\"Original Image\")\n",
        "axes[0].axis(\"off\")\n",
        "\n",
        "axes[1].imshow(filtered_image, cmap='gray')\n",
        "axes[1].set_title(\"Filtered Image\")\n",
        "axes[1].axis(\"off\")\n",
        "\n",
        "plt.tight_layout()\n",
        "plt.show()"
      ],
      "metadata": {
        "colab": {
          "base_uri": "https://localhost:8080/"
        },
        "id": "2q2jZbvm4xMB",
        "outputId": "f25be35f-47a0-4a5d-ff84-ec2b0d80250c"
      },
      "execution_count": 34,
      "outputs": [
        {
          "output_type": "stream",
          "name": "stdout",
          "text": [
            "Array arr1: [[[1 2]\n",
            "  [3 4]\n",
            "  [5 6]]]\n",
            "Array arr2: [[10 20 30]\n",
            " [40 50 60]]\n",
            "Dot product: [[[ 90 120 150]\n",
            "  [190 260 330]\n",
            "  [290 400 510]]]\n",
            "Dot product: [[[ 90 120 150]\n",
            "  [190 260 330]\n",
            "  [290 400 510]]]\n",
            "\n",
            "Original 'image' matrix:\n",
            "[[100 150]\n",
            " [200 250]]\n",
            "\n",
            "Filter matrix:\n",
            "[[0.5 0.2]\n",
            " [0.3 0.8]]\n",
            "\n",
            "Filtered image matrix (after transformation):\n",
            "[[ 95. 140.]\n",
            " [175. 240.]]\n"
          ]
        }
      ]
    }
  ]
}